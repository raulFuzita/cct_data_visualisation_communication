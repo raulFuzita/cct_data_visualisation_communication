{
  "nbformat": 4,
  "nbformat_minor": 0,
  "metadata": {
    "colab": {
      "name": "DVC_CA_Marina.ipynb",
      "provenance": [],
      "collapsed_sections": [],
      "include_colab_link": true
    },
    "kernelspec": {
      "name": "python3",
      "display_name": "Python 3"
    },
    "language_info": {
      "name": "python"
    }
  },
  "cells": [
    {
      "cell_type": "markdown",
      "metadata": {
        "id": "view-in-github",
        "colab_type": "text"
      },
      "source": [
        "<a href=\"https://colab.research.google.com/github/raulFuzita/cct_data_visualisation_communication/blob/CA1/DVC_CA_Marina.ipynb\" target=\"_parent\"><img src=\"https://colab.research.google.com/assets/colab-badge.svg\" alt=\"Open In Colab\"/></a>"
      ]
    },
    {
      "cell_type": "markdown",
      "metadata": {
        "id": "ppNPDrTvxk8I"
      },
      "source": [
        "# Data Visualization and Communication CA\n",
        "\n",
        "*Lecturer:* Marina\n",
        "\n",
        "*Students*\n",
        "\n",
        ".   Fatime Reisenleitner - id: 2020491 \n",
        "\n",
        ".   Raul Macedo Fuzita - id: 2018337\n",
        "\n"
      ]
    },
    {
      "cell_type": "markdown",
      "metadata": {
        "id": "SRJSpceA0qWZ"
      },
      "source": [
        "##**1. Business Understanding:**"
      ]
    },
    {
      "cell_type": "markdown",
      "metadata": {
        "id": "mrL9Ojot1XQi"
      },
      "source": [
        "###**Objectives:**"
      ]
    },
    {
      "cell_type": "markdown",
      "metadata": {
        "id": "Ia-FgfuM4Ce2"
      },
      "source": [
        "Our team has decided to work in liason with the **healthcare** sector gathering their **global dataset** from **2020**, to investigate and provide information and possible advice regarding the Covid situation. This is a very relevant topic as the pandemic is still very much present in and effecting our daily lives. \n",
        "\n"
      ]
    },
    {
      "cell_type": "markdown",
      "metadata": {
        "id": "edYj9hXd0ytm"
      },
      "source": [
        "###**Problem Domain**:\n",
        "----------------------------------------------------------------------\n",
        "> *Healthcare sector wishes to implement the best approach to dealing with the Covid situation and for this reason requested the analysis on Global cases.*\n",
        "----------------------------------------------------------------------"
      ]
    },
    {
      "cell_type": "markdown",
      "metadata": {
        "id": "UbWMyrZH0_to"
      },
      "source": [
        "###**Problem Motives:**\n",
        "We wish to investigate:\n",
        "* Which **Location** has proven to have a better handling of the situation (with **less deaths and cases**)\n",
        "* Are there any **peaks during-after major Global festivities**? (Christmas, Black Friday, Valentine's day... Shopping/gathering)\n",
        "* Has the situation **improved globally**? "
      ]
    },
    {
      "cell_type": "markdown",
      "metadata": {
        "id": "Hxk8oBLg0r-S"
      },
      "source": [
        "\n",
        "##**2. Data Understanding:**"
      ]
    },
    {
      "cell_type": "markdown",
      "metadata": {
        "id": "2cBg85t52Rsh"
      },
      "source": [
        "###**Data Collection:**"
      ]
    },
    {
      "cell_type": "markdown",
      "metadata": {
        "id": "3nHPxyLRovao"
      },
      "source": [
        "We acquired the **covid.csv** dataset from github (https://github.com/raulFuzita/cct_data_visualisation_communication/tree/CA1) which was kindly made available by the global healthcare sector. It contains....\n"
      ]
    },
    {
      "cell_type": "markdown",
      "metadata": {
        "id": "-CgAQRQ-JEp2"
      },
      "source": [
        "#### Dataset Information"
      ]
    },
    {
      "cell_type": "markdown",
      "metadata": {
        "id": "ehn8XpWeJHrz"
      },
      "source": [
        "[Covid CSV File](https://corgis-edu.github.io/corgis/csv/covid/)\n",
        "\n",
        "From the CORGIS Dataset Project\n",
        "\n",
        "By Dennis Kafura, Melanie Sutphin, Joung Min Choi and Bo Guan\n",
        "Version 2.0.0, created 10/22/2021\n",
        "Tags: Covid, Covid-19, pandemic, infection, world health"
      ]
    },
    {
      "cell_type": "markdown",
      "metadata": {
        "id": "Q8WOm2M2XywZ"
      },
      "source": [
        "##### Overview"
      ]
    },
    {
      "cell_type": "markdown",
      "metadata": {
        "id": "FSuHuAusX3PZ"
      },
      "source": [
        "The data set contains daily reports of Covid-19 cases and deaths in countries worldwide. The data also shows the country’s population and the number of cases per 100,000 people on a rolling 14 day average.\n",
        "\n",
        "Samples were taken from `31/12/2019` to `14/12/2020`\n"
      ]
    },
    {
      "cell_type": "markdown",
      "metadata": {
        "id": "kQmfh24NqVqO"
      },
      "source": [
        "####**Data Source:**\n",
        "For our investigation we are using the **CSV** file format which is available at: https://data.europa.eu/euodp/en/data/dataset/covid-19-coronavirus-data"
      ]
    },
    {
      "cell_type": "markdown",
      "metadata": {
        "id": "5dW5HEm52hZd"
      },
      "source": [
        "###**Data Description:**"
      ]
    },
    {
      "cell_type": "markdown",
      "metadata": {
        "id": "fszSAkKYp9i-"
      },
      "source": [
        "To understand the data better we conducted several initial analysis on the data set. This is presented step-by-step below."
      ]
    },
    {
      "cell_type": "markdown",
      "metadata": {
        "id": "9BAfmZJbhzWt"
      },
      "source": [
        "The least packages and data for the analysis"
      ]
    },
    {
      "cell_type": "code",
      "metadata": {
        "id": "afIJf2kGxcSz"
      },
      "source": [
        "import pandas as pd               # Pandas allows multi-dimensional arrays. It's usefull for machine learning, data analysis, and data science\n",
        "import numpy as np                # Numpy provides function to work with arrays, domain of linear algebra, fourier transformation, and matrices (w3school, NumPy Introduction)\n",
        "import matplotlib.pyplot as plt   # Matplotlib is a low level graph plotting library in python that serves as a visualization utility (w3school, Matplotlib Tutorial). "
      ],
      "execution_count": null,
      "outputs": []
    },
    {
      "cell_type": "code",
      "metadata": {
        "id": "vB4LHH-JyXEG"
      },
      "source": [
        "# Importing the data set in CSV format and storing it in a object. DF stands for Data Frame.\n",
        "df = pd.read_csv(\"https://corgis-edu.github.io/corgis/datasets/csv/covid/covid.csv\")"
      ],
      "execution_count": null,
      "outputs": []
    },
    {
      "cell_type": "markdown",
      "metadata": {
        "id": "-mdO4bBEsmVO"
      },
      "source": [
        "Overview the "
      ]
    },
    {
      "cell_type": "markdown",
      "metadata": {
        "id": "JAlLqYdeq2Ju"
      },
      "source": [
        "####**Data Size:**\n",
        "We have decided to verify the data size to make sure we meet the requirements of our investigations, as well as to verify that our dataset is large enough to draw accurate conclusions."
      ]
    },
    {
      "cell_type": "markdown",
      "metadata": {
        "id": "2njKWmenlkgD"
      },
      "source": [
        "The **Asessment Details** requires a minimum of 10 columns and a minimum of 1500 observations. The data set in question for this analysis, has 53629 observations and 10 columns."
      ]
    },
    {
      "cell_type": "code",
      "metadata": {
        "colab": {
          "base_uri": "https://localhost:8080/"
        },
        "id": "zhNZP_4q6_x8",
        "outputId": "f4704c2d-050c-4412-dcb7-9d60928bd099"
      },
      "source": [
        "df.shape"
      ],
      "execution_count": null,
      "outputs": [
        {
          "output_type": "execute_result",
          "data": {
            "text/plain": [
              "(53629, 10)"
            ]
          },
          "metadata": {},
          "execution_count": 5
        }
      ]
    },
    {
      "cell_type": "markdown",
      "metadata": {
        "id": "G5f4HhQ2sIKI"
      },
      "source": [
        "As we have demonstrated the dataset is large enough for a reliable  investigations."
      ]
    },
    {
      "cell_type": "markdown",
      "metadata": {
        "id": "VyOGOFyO2lts"
      },
      "source": [
        "###**EDA:**"
      ]
    },
    {
      "cell_type": "markdown",
      "metadata": {
        "id": "fgqoWECTxeVg"
      },
      "source": [
        "The `head` function shows the first five observations in a data set. It gives us an overview of the names of the variables and a rough idea of the data in it."
      ]
    },
    {
      "cell_type": "code",
      "metadata": {
        "id": "Jyb7Op1UygLM",
        "colab": {
          "base_uri": "https://localhost:8080/",
          "height": 206
        },
        "outputId": "61805086-c93e-4f87-fc7c-c739a75a8369"
      },
      "source": [
        "df.head()"
      ],
      "execution_count": null,
      "outputs": [
        {
          "output_type": "execute_result",
          "data": {
            "text/html": [
              "<div>\n",
              "<style scoped>\n",
              "    .dataframe tbody tr th:only-of-type {\n",
              "        vertical-align: middle;\n",
              "    }\n",
              "\n",
              "    .dataframe tbody tr th {\n",
              "        vertical-align: top;\n",
              "    }\n",
              "\n",
              "    .dataframe thead th {\n",
              "        text-align: right;\n",
              "    }\n",
              "</style>\n",
              "<table border=\"1\" class=\"dataframe\">\n",
              "  <thead>\n",
              "    <tr style=\"text-align: right;\">\n",
              "      <th></th>\n",
              "      <th>Date.Day</th>\n",
              "      <th>Date.Month</th>\n",
              "      <th>Date.Year</th>\n",
              "      <th>Data.Cases</th>\n",
              "      <th>Data.Deaths</th>\n",
              "      <th>Location.Country</th>\n",
              "      <th>Location.Code</th>\n",
              "      <th>Data.Population</th>\n",
              "      <th>Location.Continent</th>\n",
              "      <th>Data.Rate</th>\n",
              "    </tr>\n",
              "  </thead>\n",
              "  <tbody>\n",
              "    <tr>\n",
              "      <th>0</th>\n",
              "      <td>14</td>\n",
              "      <td>12</td>\n",
              "      <td>2020</td>\n",
              "      <td>746</td>\n",
              "      <td>6</td>\n",
              "      <td>Afghanistan</td>\n",
              "      <td>AFG</td>\n",
              "      <td>38041757</td>\n",
              "      <td>Asia</td>\n",
              "      <td>9.013779</td>\n",
              "    </tr>\n",
              "    <tr>\n",
              "      <th>1</th>\n",
              "      <td>13</td>\n",
              "      <td>12</td>\n",
              "      <td>2020</td>\n",
              "      <td>298</td>\n",
              "      <td>9</td>\n",
              "      <td>Afghanistan</td>\n",
              "      <td>AFG</td>\n",
              "      <td>38041757</td>\n",
              "      <td>Asia</td>\n",
              "      <td>7.052776</td>\n",
              "    </tr>\n",
              "    <tr>\n",
              "      <th>2</th>\n",
              "      <td>12</td>\n",
              "      <td>12</td>\n",
              "      <td>2020</td>\n",
              "      <td>113</td>\n",
              "      <td>11</td>\n",
              "      <td>Afghanistan</td>\n",
              "      <td>AFG</td>\n",
              "      <td>38041757</td>\n",
              "      <td>Asia</td>\n",
              "      <td>6.868768</td>\n",
              "    </tr>\n",
              "    <tr>\n",
              "      <th>3</th>\n",
              "      <td>11</td>\n",
              "      <td>12</td>\n",
              "      <td>2020</td>\n",
              "      <td>63</td>\n",
              "      <td>10</td>\n",
              "      <td>Afghanistan</td>\n",
              "      <td>AFG</td>\n",
              "      <td>38041757</td>\n",
              "      <td>Asia</td>\n",
              "      <td>7.134266</td>\n",
              "    </tr>\n",
              "    <tr>\n",
              "      <th>4</th>\n",
              "      <td>10</td>\n",
              "      <td>12</td>\n",
              "      <td>2020</td>\n",
              "      <td>202</td>\n",
              "      <td>16</td>\n",
              "      <td>Afghanistan</td>\n",
              "      <td>AFG</td>\n",
              "      <td>38041757</td>\n",
              "      <td>Asia</td>\n",
              "      <td>6.968658</td>\n",
              "    </tr>\n",
              "  </tbody>\n",
              "</table>\n",
              "</div>"
            ],
            "text/plain": [
              "   Date.Day  Date.Month  ...  Location.Continent  Data.Rate\n",
              "0        14          12  ...                Asia   9.013779\n",
              "1        13          12  ...                Asia   7.052776\n",
              "2        12          12  ...                Asia   6.868768\n",
              "3        11          12  ...                Asia   7.134266\n",
              "4        10          12  ...                Asia   6.968658\n",
              "\n",
              "[5 rows x 10 columns]"
            ]
          },
          "metadata": {},
          "execution_count": 3
        }
      ]
    },
    {
      "cell_type": "markdown",
      "metadata": {
        "id": "UrlEfITU1Es9"
      },
      "source": [
        "The `info` function provides the type of each variable in the data set."
      ]
    },
    {
      "cell_type": "code",
      "metadata": {
        "colab": {
          "base_uri": "https://localhost:8080/"
        },
        "id": "LuGv9DZ2zKIm",
        "outputId": "27188a4c-c3db-4734-f0c7-c89d180d79d3"
      },
      "source": [
        "df.info()"
      ],
      "execution_count": 46,
      "outputs": [
        {
          "output_type": "stream",
          "name": "stdout",
          "text": [
            "<class 'pandas.core.frame.DataFrame'>\n",
            "RangeIndex: 53629 entries, 0 to 53628\n",
            "Data columns (total 10 columns):\n",
            " #   Column              Non-Null Count  Dtype  \n",
            "---  ------              --------------  -----  \n",
            " 0   Date.Day            53629 non-null  int64  \n",
            " 1   Date.Month          53629 non-null  int64  \n",
            " 2   Date.Year           53629 non-null  int64  \n",
            " 3   Data.Cases          53629 non-null  int64  \n",
            " 4   Data.Deaths         53629 non-null  int64  \n",
            " 5   Location.Country    53629 non-null  object \n",
            " 6   Location.Code       53545 non-null  object \n",
            " 7   Data.Population     53629 non-null  int64  \n",
            " 8   Location.Continent  53629 non-null  object \n",
            " 9   Data.Rate           53629 non-null  float64\n",
            "dtypes: float64(1), int64(6), object(3)\n",
            "memory usage: 4.1+ MB\n"
          ]
        }
      ]
    },
    {
      "cell_type": "markdown",
      "metadata": {
        "id": "QMPBTQeM1WlU"
      },
      "source": [
        "The `describe` function plays an important role to start the first steps in the data preparation. Since it provides information such as, min/max, standard deviation, quartiles, and mean of each variables, it makes easier to spot outliers and perhaps unecessary data."
      ]
    },
    {
      "cell_type": "code",
      "metadata": {
        "colab": {
          "base_uri": "https://localhost:8080/",
          "height": 300
        },
        "id": "yYFUQQC5xZqo",
        "outputId": "0fbc880a-6e22-4a60-a6e3-180717b89538"
      },
      "source": [
        "df.describe()"
      ],
      "execution_count": null,
      "outputs": [
        {
          "output_type": "execute_result",
          "data": {
            "text/html": [
              "<div>\n",
              "<style scoped>\n",
              "    .dataframe tbody tr th:only-of-type {\n",
              "        vertical-align: middle;\n",
              "    }\n",
              "\n",
              "    .dataframe tbody tr th {\n",
              "        vertical-align: top;\n",
              "    }\n",
              "\n",
              "    .dataframe thead th {\n",
              "        text-align: right;\n",
              "    }\n",
              "</style>\n",
              "<table border=\"1\" class=\"dataframe\">\n",
              "  <thead>\n",
              "    <tr style=\"text-align: right;\">\n",
              "      <th></th>\n",
              "      <th>Date.Day</th>\n",
              "      <th>Date.Month</th>\n",
              "      <th>Date.Year</th>\n",
              "      <th>Data.Cases</th>\n",
              "      <th>Data.Deaths</th>\n",
              "      <th>Data.Population</th>\n",
              "      <th>Data.Rate</th>\n",
              "    </tr>\n",
              "  </thead>\n",
              "  <tbody>\n",
              "    <tr>\n",
              "      <th>count</th>\n",
              "      <td>53629.000000</td>\n",
              "      <td>53629.000000</td>\n",
              "      <td>53629.000000</td>\n",
              "      <td>53629.000000</td>\n",
              "      <td>53629.000000</td>\n",
              "      <td>5.362900e+04</td>\n",
              "      <td>53629.000000</td>\n",
              "    </tr>\n",
              "    <tr>\n",
              "      <th>mean</th>\n",
              "      <td>15.845009</td>\n",
              "      <td>6.406776</td>\n",
              "      <td>2019.998751</td>\n",
              "      <td>898.374033</td>\n",
              "      <td>22.873035</td>\n",
              "      <td>4.164579e+07</td>\n",
              "      <td>44.382863</td>\n",
              "    </tr>\n",
              "    <tr>\n",
              "      <th>std</th>\n",
              "      <td>8.940220</td>\n",
              "      <td>2.600373</td>\n",
              "      <td>0.035324</td>\n",
              "      <td>5019.868017</td>\n",
              "      <td>124.259355</td>\n",
              "      <td>1.548019e+08</td>\n",
              "      <td>113.147610</td>\n",
              "    </tr>\n",
              "    <tr>\n",
              "      <th>min</th>\n",
              "      <td>1.000000</td>\n",
              "      <td>1.000000</td>\n",
              "      <td>2019.000000</td>\n",
              "      <td>-8261.000000</td>\n",
              "      <td>-1918.000000</td>\n",
              "      <td>-1.000000e+00</td>\n",
              "      <td>-147.419587</td>\n",
              "    </tr>\n",
              "    <tr>\n",
              "      <th>25%</th>\n",
              "      <td>8.000000</td>\n",
              "      <td>4.000000</td>\n",
              "      <td>2020.000000</td>\n",
              "      <td>0.000000</td>\n",
              "      <td>0.000000</td>\n",
              "      <td>1.324820e+06</td>\n",
              "      <td>0.269203</td>\n",
              "    </tr>\n",
              "    <tr>\n",
              "      <th>50%</th>\n",
              "      <td>16.000000</td>\n",
              "      <td>7.000000</td>\n",
              "      <td>2020.000000</td>\n",
              "      <td>13.000000</td>\n",
              "      <td>0.000000</td>\n",
              "      <td>7.813207e+06</td>\n",
              "      <td>4.652782</td>\n",
              "    </tr>\n",
              "    <tr>\n",
              "      <th>75%</th>\n",
              "      <td>24.000000</td>\n",
              "      <td>9.000000</td>\n",
              "      <td>2020.000000</td>\n",
              "      <td>206.000000</td>\n",
              "      <td>3.000000</td>\n",
              "      <td>2.860872e+07</td>\n",
              "      <td>34.905448</td>\n",
              "    </tr>\n",
              "    <tr>\n",
              "      <th>max</th>\n",
              "      <td>31.000000</td>\n",
              "      <td>12.000000</td>\n",
              "      <td>2020.000000</td>\n",
              "      <td>102507.000000</td>\n",
              "      <td>4928.000000</td>\n",
              "      <td>1.433784e+09</td>\n",
              "      <td>1900.836210</td>\n",
              "    </tr>\n",
              "  </tbody>\n",
              "</table>\n",
              "</div>"
            ],
            "text/plain": [
              "           Date.Day    Date.Month  ...  Data.Population     Data.Rate\n",
              "count  53629.000000  53629.000000  ...     5.362900e+04  53629.000000\n",
              "mean      15.845009      6.406776  ...     4.164579e+07     44.382863\n",
              "std        8.940220      2.600373  ...     1.548019e+08    113.147610\n",
              "min        1.000000      1.000000  ...    -1.000000e+00   -147.419587\n",
              "25%        8.000000      4.000000  ...     1.324820e+06      0.269203\n",
              "50%       16.000000      7.000000  ...     7.813207e+06      4.652782\n",
              "75%       24.000000      9.000000  ...     2.860872e+07     34.905448\n",
              "max       31.000000     12.000000  ...     1.433784e+09   1900.836210\n",
              "\n",
              "[8 rows x 7 columns]"
            ]
          },
          "metadata": {},
          "execution_count": 45
        }
      ]
    },
    {
      "cell_type": "markdown",
      "metadata": {
        "id": "FVpOeAnr2uuU"
      },
      "source": [
        "###**Data Quality Analysis:**"
      ]
    },
    {
      "cell_type": "code",
      "metadata": {
        "colab": {
          "base_uri": "https://localhost:8080/",
          "height": 81
        },
        "id": "lIWJizmyc-z6",
        "outputId": "24612fda-aaca-4ea6-8c10-95eb32d031c1"
      },
      "source": [
        "cases2019 = df[df['Date.Year'] == 2019]\n",
        "cases_deaths_2019 = cases2019[(cases2019['Data.Cases'] > 0) | (cases2019['Data.Deaths'] > 0)]\n",
        "cases_deaths_2019"
      ],
      "execution_count": 50,
      "outputs": [
        {
          "output_type": "execute_result",
          "data": {
            "text/html": [
              "<div>\n",
              "<style scoped>\n",
              "    .dataframe tbody tr th:only-of-type {\n",
              "        vertical-align: middle;\n",
              "    }\n",
              "\n",
              "    .dataframe tbody tr th {\n",
              "        vertical-align: top;\n",
              "    }\n",
              "\n",
              "    .dataframe thead th {\n",
              "        text-align: right;\n",
              "    }\n",
              "</style>\n",
              "<table border=\"1\" class=\"dataframe\">\n",
              "  <thead>\n",
              "    <tr style=\"text-align: right;\">\n",
              "      <th></th>\n",
              "      <th>Date.Day</th>\n",
              "      <th>Date.Month</th>\n",
              "      <th>Date.Year</th>\n",
              "      <th>Data.Cases</th>\n",
              "      <th>Data.Deaths</th>\n",
              "      <th>Location.Country</th>\n",
              "      <th>Location.Code</th>\n",
              "      <th>Data.Population</th>\n",
              "      <th>Location.Continent</th>\n",
              "      <th>Data.Rate</th>\n",
              "    </tr>\n",
              "  </thead>\n",
              "  <tbody>\n",
              "    <tr>\n",
              "      <th>10848</th>\n",
              "      <td>31</td>\n",
              "      <td>12</td>\n",
              "      <td>2019</td>\n",
              "      <td>27</td>\n",
              "      <td>0</td>\n",
              "      <td>China</td>\n",
              "      <td>CHN</td>\n",
              "      <td>1433783692</td>\n",
              "      <td>Asia</td>\n",
              "      <td>0.0</td>\n",
              "    </tr>\n",
              "  </tbody>\n",
              "</table>\n",
              "</div>"
            ],
            "text/plain": [
              "       Date.Day  Date.Month  ...  Location.Continent  Data.Rate\n",
              "10848        31          12  ...                Asia        0.0\n",
              "\n",
              "[1 rows x 10 columns]"
            ]
          },
          "metadata": {},
          "execution_count": 50
        }
      ]
    },
    {
      "cell_type": "markdown",
      "metadata": {
        "id": "usMV46Fj23U7"
      },
      "source": [
        "##**3. Data Preparation:**"
      ]
    },
    {
      "cell_type": "markdown",
      "metadata": {
        "id": "lRlXxqpB2_E5"
      },
      "source": [
        "###**Data Integration:**"
      ]
    },
    {
      "cell_type": "markdown",
      "metadata": {
        "id": "AFHj5CxX3Oxc"
      },
      "source": [
        "###**Data Wrangling:**"
      ]
    },
    {
      "cell_type": "markdown",
      "metadata": {
        "id": "hTbDIHtd3SZd"
      },
      "source": [
        "###**Feature Engineering:**"
      ]
    },
    {
      "cell_type": "markdown",
      "metadata": {
        "id": "-IxueIc-3eW2"
      },
      "source": [
        "##**4. Data Modelling:**"
      ]
    },
    {
      "cell_type": "markdown",
      "metadata": {
        "id": "SoFC82aR3pdm"
      },
      "source": [
        "## **5. Evaluation:**"
      ]
    },
    {
      "cell_type": "markdown",
      "metadata": {
        "id": "TYns1QcH3ynt"
      },
      "source": [
        "##**6. Deployment:**"
      ]
    },
    {
      "cell_type": "markdown",
      "metadata": {
        "id": "InfXfNlg3pjD"
      },
      "source": [
        "## **Challenges:**"
      ]
    },
    {
      "cell_type": "markdown",
      "metadata": {
        "id": "f0X2zqWiC-NY"
      },
      "source": [
        "The Covid situation is a very sensitive topic and every nation has dealt with it in a different manner, hence we can only advice based on their records. \n",
        "\n",
        "* Humans are very much irrational with **Cognitive bias**. And this has been the foundation of their reactions to Covid. Hence it is impossible to dictate what people can or will do.\n",
        "* There is a constant **clash of interest** with how to handle the pandemic.\n",
        " - Financial specialist: **economy** suffers with lockdowns\n",
        " -  Health professionals consider the worth of **human life** which requires the stop of spreading\n",
        "* Our **data** also is **limited** in the sense that we lack information about:\n",
        " - Covid variations \n",
        " - number of vaccinated and it's effectiveness in the population \n",
        " - any quarantine, lock-downs \n",
        "\n",
        "* Due to the very **limited time** constraint and extremely **small group** (of 2) we had to:\n",
        " - **disregard** certain situations\n",
        "    * The number of cases can differ based on population size\n",
        "\n",
        " - make **assumptions**\n",
        "    * geographic Regions (Island vs Continent) have the same conditions "
      ]
    },
    {
      "cell_type": "code",
      "metadata": {
        "id": "Gd2I_5-njjam"
      },
      "source": [
        ""
      ],
      "execution_count": null,
      "outputs": []
    }
  ]
}